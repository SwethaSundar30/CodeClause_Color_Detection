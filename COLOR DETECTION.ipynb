{
 "cells": [
  {
   "cell_type": "markdown",
   "id": "6b6d694e",
   "metadata": {},
   "source": [
    "# COLOR DETECTION"
   ]
  },
  {
   "cell_type": "markdown",
   "id": "b528ceb4",
   "metadata": {},
   "source": [
    "IMPORTING LIBRARIES:"
   ]
  },
  {
   "cell_type": "code",
   "execution_count": 1,
   "id": "7e67d256",
   "metadata": {},
   "outputs": [],
   "source": [
    "import pandas as pd\n",
    "import cv2\n"
   ]
  },
  {
   "cell_type": "markdown",
   "id": "4383775b",
   "metadata": {},
   "source": [
    "READING DATASET:"
   ]
  },
  {
   "cell_type": "code",
   "execution_count": 2,
   "id": "eea9c23e",
   "metadata": {},
   "outputs": [
    {
     "name": "stdout",
     "output_type": "stream",
     "text": [
      "     air_force_blue_raf   Air Force Blue (Raf)  #5d8aa8   93  138  168\n",
      "0   air_force_blue_usaf  Air Force Blue (Usaf)  #00308f    0   48  143\n",
      "1  air_superiority_blue   Air Superiority Blue  #72a0c1  114  160  193\n",
      "2       alabama_crimson        Alabama Crimson  #a32638  163   38   56\n",
      "3            alice_blue             Alice Blue  #f0f8ff  240  248  255\n",
      "4      alizarin_crimson       Alizarin Crimson  #e32636  227   38   54\n"
     ]
    }
   ],
   "source": [
    "df = pd.read_csv(r\"C:\\Users\\sweth\\OneDrive\\Pictures\\Desktop\\Test Jupyter\\colors.csv\")\n",
    "print(df.head(5))"
   ]
  },
  {
   "cell_type": "code",
   "execution_count": 3,
   "id": "15ce833a",
   "metadata": {},
   "outputs": [],
   "source": [
    "index= ['color','color_name','hex','R','G','B']"
   ]
  },
  {
   "cell_type": "code",
   "execution_count": 4,
   "id": "6dd4f805",
   "metadata": {},
   "outputs": [
    {
     "name": "stdout",
     "output_type": "stream",
     "text": [
      "                  color             color_name      hex    R    G    B\n",
      "0    air_force_blue_raf   Air Force Blue (Raf)  #5d8aa8   93  138  168\n",
      "1   air_force_blue_usaf  Air Force Blue (Usaf)  #00308f    0   48  143\n",
      "2  air_superiority_blue   Air Superiority Blue  #72a0c1  114  160  193\n",
      "3       alabama_crimson        Alabama Crimson  #a32638  163   38   56\n",
      "4            alice_blue             Alice Blue  #f0f8ff  240  248  255\n"
     ]
    }
   ],
   "source": [
    "df = pd.read_csv(r\"C:\\Users\\sweth\\OneDrive\\Pictures\\Desktop\\Test Jupyter\\colors.csv\",names=index,header=None)\n",
    "print(df.head(5))"
   ]
  },
  {
   "cell_type": "code",
   "execution_count": 5,
   "id": "824e0645",
   "metadata": {},
   "outputs": [
    {
     "data": {
      "text/plain": [
       "(865, 6)"
      ]
     },
     "execution_count": 5,
     "metadata": {},
     "output_type": "execute_result"
    }
   ],
   "source": [
    "df.shape"
   ]
  },
  {
   "cell_type": "code",
   "execution_count": 6,
   "id": "66011f37",
   "metadata": {},
   "outputs": [
    {
     "data": {
      "text/html": [
       "<div>\n",
       "<style scoped>\n",
       "    .dataframe tbody tr th:only-of-type {\n",
       "        vertical-align: middle;\n",
       "    }\n",
       "\n",
       "    .dataframe tbody tr th {\n",
       "        vertical-align: top;\n",
       "    }\n",
       "\n",
       "    .dataframe thead th {\n",
       "        text-align: right;\n",
       "    }\n",
       "</style>\n",
       "<table border=\"1\" class=\"dataframe\">\n",
       "  <thead>\n",
       "    <tr style=\"text-align: right;\">\n",
       "      <th></th>\n",
       "      <th>color</th>\n",
       "      <th>color_name</th>\n",
       "      <th>hex</th>\n",
       "      <th>R</th>\n",
       "      <th>G</th>\n",
       "      <th>B</th>\n",
       "    </tr>\n",
       "  </thead>\n",
       "  <tbody>\n",
       "    <tr>\n",
       "      <th>0</th>\n",
       "      <td>air_force_blue_raf</td>\n",
       "      <td>Air Force Blue (Raf)</td>\n",
       "      <td>#5d8aa8</td>\n",
       "      <td>93</td>\n",
       "      <td>138</td>\n",
       "      <td>168</td>\n",
       "    </tr>\n",
       "    <tr>\n",
       "      <th>1</th>\n",
       "      <td>air_force_blue_usaf</td>\n",
       "      <td>Air Force Blue (Usaf)</td>\n",
       "      <td>#00308f</td>\n",
       "      <td>0</td>\n",
       "      <td>48</td>\n",
       "      <td>143</td>\n",
       "    </tr>\n",
       "    <tr>\n",
       "      <th>2</th>\n",
       "      <td>air_superiority_blue</td>\n",
       "      <td>Air Superiority Blue</td>\n",
       "      <td>#72a0c1</td>\n",
       "      <td>114</td>\n",
       "      <td>160</td>\n",
       "      <td>193</td>\n",
       "    </tr>\n",
       "    <tr>\n",
       "      <th>3</th>\n",
       "      <td>alabama_crimson</td>\n",
       "      <td>Alabama Crimson</td>\n",
       "      <td>#a32638</td>\n",
       "      <td>163</td>\n",
       "      <td>38</td>\n",
       "      <td>56</td>\n",
       "    </tr>\n",
       "    <tr>\n",
       "      <th>4</th>\n",
       "      <td>alice_blue</td>\n",
       "      <td>Alice Blue</td>\n",
       "      <td>#f0f8ff</td>\n",
       "      <td>240</td>\n",
       "      <td>248</td>\n",
       "      <td>255</td>\n",
       "    </tr>\n",
       "    <tr>\n",
       "      <th>...</th>\n",
       "      <td>...</td>\n",
       "      <td>...</td>\n",
       "      <td>...</td>\n",
       "      <td>...</td>\n",
       "      <td>...</td>\n",
       "      <td>...</td>\n",
       "    </tr>\n",
       "    <tr>\n",
       "      <th>860</th>\n",
       "      <td>yellow_orange</td>\n",
       "      <td>Yellow Orange</td>\n",
       "      <td>#ffae42</td>\n",
       "      <td>255</td>\n",
       "      <td>174</td>\n",
       "      <td>66</td>\n",
       "    </tr>\n",
       "    <tr>\n",
       "      <th>861</th>\n",
       "      <td>yellow_process</td>\n",
       "      <td>Yellow (Process)</td>\n",
       "      <td>#ffef00</td>\n",
       "      <td>255</td>\n",
       "      <td>239</td>\n",
       "      <td>0</td>\n",
       "    </tr>\n",
       "    <tr>\n",
       "      <th>862</th>\n",
       "      <td>yellow_ryb</td>\n",
       "      <td>Yellow (Ryb)</td>\n",
       "      <td>#fefe33</td>\n",
       "      <td>254</td>\n",
       "      <td>254</td>\n",
       "      <td>51</td>\n",
       "    </tr>\n",
       "    <tr>\n",
       "      <th>863</th>\n",
       "      <td>zaffre</td>\n",
       "      <td>Zaffre</td>\n",
       "      <td>#0014a8</td>\n",
       "      <td>0</td>\n",
       "      <td>20</td>\n",
       "      <td>168</td>\n",
       "    </tr>\n",
       "    <tr>\n",
       "      <th>864</th>\n",
       "      <td>zinnwaldite_brown</td>\n",
       "      <td>Zinnwaldite Brown</td>\n",
       "      <td>#2c1608</td>\n",
       "      <td>44</td>\n",
       "      <td>22</td>\n",
       "      <td>8</td>\n",
       "    </tr>\n",
       "  </tbody>\n",
       "</table>\n",
       "<p>865 rows × 6 columns</p>\n",
       "</div>"
      ],
      "text/plain": [
       "                    color             color_name      hex    R    G    B\n",
       "0      air_force_blue_raf   Air Force Blue (Raf)  #5d8aa8   93  138  168\n",
       "1     air_force_blue_usaf  Air Force Blue (Usaf)  #00308f    0   48  143\n",
       "2    air_superiority_blue   Air Superiority Blue  #72a0c1  114  160  193\n",
       "3         alabama_crimson        Alabama Crimson  #a32638  163   38   56\n",
       "4              alice_blue             Alice Blue  #f0f8ff  240  248  255\n",
       "..                    ...                    ...      ...  ...  ...  ...\n",
       "860         yellow_orange          Yellow Orange  #ffae42  255  174   66\n",
       "861        yellow_process       Yellow (Process)  #ffef00  255  239    0\n",
       "862            yellow_ryb           Yellow (Ryb)  #fefe33  254  254   51\n",
       "863                zaffre                 Zaffre  #0014a8    0   20  168\n",
       "864     zinnwaldite_brown      Zinnwaldite Brown  #2c1608   44   22    8\n",
       "\n",
       "[865 rows x 6 columns]"
      ]
     },
     "execution_count": 6,
     "metadata": {},
     "output_type": "execute_result"
    }
   ],
   "source": [
    "df"
   ]
  },
  {
   "cell_type": "markdown",
   "id": "71cbe927",
   "metadata": {},
   "source": [
    "READ IMAGE IN ARRAY FORMAT:"
   ]
  },
  {
   "cell_type": "code",
   "execution_count": 7,
   "id": "75accc39",
   "metadata": {},
   "outputs": [
    {
     "data": {
      "text/plain": [
       "array([[[118,  35,  20],\n",
       "        [117,  34,  19],\n",
       "        [114,  32,  20],\n",
       "        ...,\n",
       "        [ 49,  73,  19],\n",
       "        [ 50,  73,  19],\n",
       "        [ 50,  73,  19]],\n",
       "\n",
       "       [[117,  34,  19],\n",
       "        [117,  34,  19],\n",
       "        [115,  34,  19],\n",
       "        ...,\n",
       "        [ 53,  78,  20],\n",
       "        [ 54,  79,  21],\n",
       "        [ 55,  80,  22]],\n",
       "\n",
       "       [[117,  37,  20],\n",
       "        [117,  37,  20],\n",
       "        [116,  35,  20],\n",
       "        ...,\n",
       "        [ 50,  81,  12],\n",
       "        [ 49,  80,  11],\n",
       "        [ 48,  79,  10]],\n",
       "\n",
       "       ...,\n",
       "\n",
       "       [[118, 123, 122],\n",
       "        [119, 124, 123],\n",
       "        [120, 124, 125],\n",
       "        ...,\n",
       "        [ 38,  32,  33],\n",
       "        [ 38,  30,  31],\n",
       "        [ 36,  28,  29]],\n",
       "\n",
       "       [[119, 124, 123],\n",
       "        [119, 124, 123],\n",
       "        [120, 124, 125],\n",
       "        ...,\n",
       "        [ 40,  34,  35],\n",
       "        [ 40,  32,  33],\n",
       "        [ 39,  31,  32]],\n",
       "\n",
       "       [[119, 124, 123],\n",
       "        [119, 124, 123],\n",
       "        [120, 124, 125],\n",
       "        ...,\n",
       "        [ 40,  35,  36],\n",
       "        [ 42,  34,  35],\n",
       "        [ 41,  33,  34]]], dtype=uint8)"
      ]
     },
     "execution_count": 7,
     "metadata": {},
     "output_type": "execute_result"
    }
   ],
   "source": [
    "img= cv2.imread(r\"C:\\Users\\sweth\\OneDrive\\Pictures\\Desktop\\Test Jupyter\\colorpic.jpg\")\n",
    "img"
   ]
  },
  {
   "cell_type": "code",
   "execution_count": 8,
   "id": "a2131c00",
   "metadata": {},
   "outputs": [],
   "source": [
    "img=cv2.resize(img,(800,600))\n",
    "clicked = False\n",
    "r=g=b=xpos=ypos=0"
   ]
  },
  {
   "cell_type": "markdown",
   "id": "9e6a4b14",
   "metadata": {},
   "source": [
    "FUNCTION FOR OPEN CV:"
   ]
  },
  {
   "cell_type": "code",
   "execution_count": 9,
   "id": "c73bfa7d",
   "metadata": {},
   "outputs": [],
   "source": [
    "def get_color_name(R,G,B):\n",
    "    minimum=1000\n",
    "    for i in range(len(df)):\n",
    "        d=abs(R-int(df.loc[i,'R']))+abs(G-int(df.loc[i,'G']))+abs(B-int(df.loc[i,'B']))\n",
    "        if d<= minimum:\n",
    "            minimum = d\n",
    "            cname= df.loc[i,'color_name']\n",
    "    return cname       "
   ]
  },
  {
   "cell_type": "code",
   "execution_count": 10,
   "id": "e3787d50",
   "metadata": {},
   "outputs": [
    {
     "name": "stdout",
     "output_type": "stream",
     "text": [
      "Black\n",
      "White\n"
     ]
    }
   ],
   "source": [
    "print(get_color_name(0,0,0))\n",
    "print(get_color_name(255,255,255))"
   ]
  },
  {
   "cell_type": "markdown",
   "id": "c8360f18",
   "metadata": {},
   "source": [
    "BINDS WITH MOUSE:"
   ]
  },
  {
   "cell_type": "code",
   "execution_count": 11,
   "id": "405d2ba7",
   "metadata": {},
   "outputs": [],
   "source": [
    "def draw_function(event,x,y,flags,params):\n",
    "    if event == cv2.EVENT_LBUTTONDBLCLK:\n",
    "        global clicked, r, g, b, xpos, ypos\n",
    "        clicked = True\n",
    "        xpos=x\n",
    "        ypos=y\n",
    "        print(x,y)\n",
    "        b, g, r=img[y, x]\n",
    "        b=int(b)\n",
    "        g=int(g)\n",
    "        r=int(r)"
   ]
  },
  {
   "cell_type": "code",
   "execution_count": 14,
   "id": "ec2c993b",
   "metadata": {},
   "outputs": [
    {
     "name": "stdout",
     "output_type": "stream",
     "text": [
      "61 376\n",
      "200 18\n",
      "736 129\n",
      "626 443\n",
      "362 136\n",
      "269 540\n"
     ]
    }
   ],
   "source": [
    "cv2.namedWindow('image')\n",
    "cv2.setMouseCallback('image',draw_function)\n",
    "while True:\n",
    "    cv2.imshow('image',img)\n",
    "    if clicked:\n",
    "        cv2.rectangle(img ,(20,20) ,(600,60) ,(b, g , r), -1)\n",
    "        text=get_color_name(r,g,b)  +'R='+ str(r)  + 'G='+ str(g)  + 'B='+ str(b)\n",
    "        cv2.putText(img,text,(50,50),2,0.8,(255,255,255),2,cv2.LINE_AA)\n",
    "        if r+g+b >= 600:\n",
    "            cv2.putText(img ,text ,(50,50) ,2 ,0.8 ,(0,0,0) ,2 ,cv2.LINE_AA)\n",
    "    if cv2.waitKey(20) & 0xFF == 27:\n",
    "         break\n",
    "cv2.destroyAllWindows()            "
   ]
  },
  {
   "cell_type": "raw",
   "id": "24316f3f",
   "metadata": {},
   "source": [
    "PRINTS X AND Y CO-ORDINATES OF THE PARTICULAR COLOR(ie.Location)"
   ]
  },
  {
   "cell_type": "code",
   "execution_count": null,
   "id": "2252d3f1",
   "metadata": {},
   "outputs": [],
   "source": []
  }
 ],
 "metadata": {
  "kernelspec": {
   "display_name": "Python 3 (ipykernel)",
   "language": "python",
   "name": "python3"
  },
  "language_info": {
   "codemirror_mode": {
    "name": "ipython",
    "version": 3
   },
   "file_extension": ".py",
   "mimetype": "text/x-python",
   "name": "python",
   "nbconvert_exporter": "python",
   "pygments_lexer": "ipython3",
   "version": "3.10.10"
  }
 },
 "nbformat": 4,
 "nbformat_minor": 5
}
